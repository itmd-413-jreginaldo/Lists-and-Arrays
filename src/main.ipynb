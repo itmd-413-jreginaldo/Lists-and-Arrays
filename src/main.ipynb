{
 "cells": [
  {
   "cell_type": "markdown",
   "source": [
    "<h1>HW 3: Lists and Arrays</h1>\n",
    "<h3>Josh Reginaldo -- https://github.com/itmd-413-jreginaldo/Lists-and-Arrays</h3>\n",
    "<p>This program will </p>"
   ],
   "metadata": {
    "collapsed": false
   }
  },
  {
   "cell_type": "markdown",
   "source": [
    "<h3>Program 1: SellItems</h3>\n",
    "<p>This program will calculate the total of all item prices entered in by the user while adding a 7% sales tax at the end. All prices entered in by the user will be saved into a list and output values will be displayed to two decimal places.</p>\n",
    "<p>The output will include:</p>\n",
    "<ul>\n",
    "    <li>List of item prices</li>\n",
    "    <li>Subtotal</li>\n",
    "    <li>Tax amount</li>\n",
    "    <li>Final cost</li>\n",
    "</ul>"
   ],
   "metadata": {
    "collapsed": false
   }
  },
  {
   "cell_type": "code",
   "execution_count": null,
   "outputs": [],
   "source": [],
   "metadata": {
    "collapsed": false
   }
  },
  {
   "cell_type": "markdown",
   "source": [
    "<h3>Program 2: 3x3 Matrix Multiplication</h3>\n",
    "<p>This program will prompt the user to enter two 3x3 matrices in which the program will calculate and display its product</p>"
   ],
   "metadata": {
    "collapsed": false
   }
  },
  {
   "cell_type": "code",
   "execution_count": null,
   "outputs": [],
   "source": [],
   "metadata": {
    "collapsed": false
   }
  }
 ],
 "metadata": {
  "kernelspec": {
   "display_name": "Python 3",
   "language": "python",
   "name": "python3"
  },
  "language_info": {
   "codemirror_mode": {
    "name": "ipython",
    "version": 2
   },
   "file_extension": ".py",
   "mimetype": "text/x-python",
   "name": "python",
   "nbconvert_exporter": "python",
   "pygments_lexer": "ipython2",
   "version": "2.7.6"
  }
 },
 "nbformat": 4,
 "nbformat_minor": 0
}
