{
 "cells": [
  {
   "cell_type": "markdown",
   "source": [
    "<h1>HW 3: Lists and Arrays</h1>\n",
    "<h3>Josh Reginaldo -- https://github.com/itmd-413-jreginaldo/Lists-and-Arrays</h3>\n",
    "<h3>Program Description: This program will execute matrix multiplication and calculate the final cost of items entered in by the user</h3>"
   ],
   "metadata": {
    "collapsed": false
   }
  },
  {
   "cell_type": "markdown",
   "source": [
    "<h3>Function 1: SellItems</h3>\n",
    "<p>This program will calculate the total of all item prices entered in by the user while adding a 7% sales tax at the end. All prices entered in by the user will be saved into a list and output values will be displayed to two decimal places.</p>\n",
    "<p>The output will include:</p>\n",
    "<ul>\n",
    "    <li>List of item prices</li>\n",
    "    <li>Subtotal</li>\n",
    "    <li>Tax amount</li>\n",
    "    <li>Final cost</li>\n",
    "</ul>"
   ],
   "metadata": {
    "collapsed": false
   }
  },
  {
   "cell_type": "code",
   "execution_count": 1,
   "outputs": [
    {
     "name": "stdout",
     "output_type": "stream",
     "text": [
      "Item 1: $100.0\n",
      "Item 2: $100.0\n",
      "Item 3: $100.0\n",
      "Subtotal: $300.00\n",
      "7% Item Tax: $21.00\n",
      "Final Total: $321.00\n"
     ]
    }
   ],
   "source": [
    "from src import hw3_functions\n",
    "\n",
    "\"\"\"\n",
    "Get user input\n",
    "\"\"\"\n",
    "continue_loop = \"y\"\n",
    "list_of_prices = []\n",
    "user_input = -1\n",
    "\n",
    "while continue_loop != \"n\":\n",
    "    list_of_prices.append(hw3_functions.check_for_negative(user_input))  # Make sure input is a positive number\n",
    "    continue_loop = str.lower(input(\"Continue adding items? (Enter 'n' to exit) > \"))\n",
    "\n",
    "\"\"\"\n",
    "Calculate final costs\n",
    "\"\"\"\n",
    "hw3_functions.calculate_costs(list_of_prices)"
   ],
   "metadata": {
    "collapsed": false
   }
  },
  {
   "cell_type": "markdown",
   "source": [
    "<h3>Function 2: 3x3 Matrix Multiplication</h3>\n",
    "<p>This program will prompt the user to enter two 3x3 matrices in which the program will calculate and display its product</p>"
   ],
   "metadata": {
    "collapsed": false
   }
  },
  {
   "cell_type": "code",
   "execution_count": 1,
   "outputs": [],
   "source": [],
   "metadata": {
    "collapsed": false
   }
  }
 ],
 "metadata": {
  "kernelspec": {
   "display_name": "Python 3",
   "language": "python",
   "name": "python3"
  },
  "language_info": {
   "codemirror_mode": {
    "name": "ipython",
    "version": 2
   },
   "file_extension": ".py",
   "mimetype": "text/x-python",
   "name": "python",
   "nbconvert_exporter": "python",
   "pygments_lexer": "ipython2",
   "version": "2.7.6"
  }
 },
 "nbformat": 4,
 "nbformat_minor": 0
}
